{
 "cells": [
  {
   "cell_type": "code",
   "execution_count": 109,
   "id": "052acc44",
   "metadata": {},
   "outputs": [],
   "source": [
    "import pandas as pd\n",
    "import json\n",
    "import numpy as np\n",
    "from collections import Counter"
   ]
  },
  {
   "cell_type": "markdown",
   "id": "7c7b0818",
   "metadata": {},
   "source": [
    "<h3>Import the datasets</h3>"
   ]
  },
  {
   "cell_type": "code",
   "execution_count": 110,
   "id": "021d64bd",
   "metadata": {},
   "outputs": [],
   "source": [
    "movie_metadata = pd.read_csv(\"/Users/mazichang/Desktop/movie_classification/MovieSummaries/movie.metadata.tsv\", sep=\"\\t\", header=None)\n",
    "movie_plot = pd.read_csv(\"/Users/mazichang/Desktop/movie_classification/MovieSummaries/plot_summaries.txt\", sep=\"\\t\", header=None)\n",
    "\n",
    "movie_metadata.columns = ['Wiki_ID', 'Freebase_ID', 'name', 'release_date', 'box_office', \n",
    "                          'runtime', 'languages', 'contries', 'genres']\n",
    "movie_plot.columns = ['Wiki_ID', 'plot']"
   ]
  },
  {
   "cell_type": "markdown",
   "id": "6ed88732",
   "metadata": {},
   "source": [
    "<h3>Check the datasets</h3>"
   ]
  },
  {
   "cell_type": "code",
   "execution_count": 111,
   "id": "83dd3f5b",
   "metadata": {
    "scrolled": false
   },
   "outputs": [
    {
     "name": "stdout",
     "output_type": "stream",
     "text": [
      "(81741, 9)\n"
     ]
    },
    {
     "data": {
      "text/html": [
       "<div>\n",
       "<style scoped>\n",
       "    .dataframe tbody tr th:only-of-type {\n",
       "        vertical-align: middle;\n",
       "    }\n",
       "\n",
       "    .dataframe tbody tr th {\n",
       "        vertical-align: top;\n",
       "    }\n",
       "\n",
       "    .dataframe thead th {\n",
       "        text-align: right;\n",
       "    }\n",
       "</style>\n",
       "<table border=\"1\" class=\"dataframe\">\n",
       "  <thead>\n",
       "    <tr style=\"text-align: right;\">\n",
       "      <th></th>\n",
       "      <th>Wiki_ID</th>\n",
       "      <th>Freebase_ID</th>\n",
       "      <th>name</th>\n",
       "      <th>release_date</th>\n",
       "      <th>box_office</th>\n",
       "      <th>runtime</th>\n",
       "      <th>languages</th>\n",
       "      <th>contries</th>\n",
       "      <th>genres</th>\n",
       "    </tr>\n",
       "  </thead>\n",
       "  <tbody>\n",
       "    <tr>\n",
       "      <th>0</th>\n",
       "      <td>975900</td>\n",
       "      <td>/m/03vyhn</td>\n",
       "      <td>Ghosts of Mars</td>\n",
       "      <td>2001-08-24</td>\n",
       "      <td>14010832.0</td>\n",
       "      <td>98.0</td>\n",
       "      <td>{\"/m/02h40lc\": \"English Language\"}</td>\n",
       "      <td>{\"/m/09c7w0\": \"United States of America\"}</td>\n",
       "      <td>{\"/m/01jfsb\": \"Thriller\", \"/m/06n90\": \"Science...</td>\n",
       "    </tr>\n",
       "    <tr>\n",
       "      <th>1</th>\n",
       "      <td>3196793</td>\n",
       "      <td>/m/08yl5d</td>\n",
       "      <td>Getting Away with Murder: The JonBenét Ramsey ...</td>\n",
       "      <td>2000-02-16</td>\n",
       "      <td>NaN</td>\n",
       "      <td>95.0</td>\n",
       "      <td>{\"/m/02h40lc\": \"English Language\"}</td>\n",
       "      <td>{\"/m/09c7w0\": \"United States of America\"}</td>\n",
       "      <td>{\"/m/02n4kr\": \"Mystery\", \"/m/03bxz7\": \"Biograp...</td>\n",
       "    </tr>\n",
       "    <tr>\n",
       "      <th>2</th>\n",
       "      <td>28463795</td>\n",
       "      <td>/m/0crgdbh</td>\n",
       "      <td>Brun bitter</td>\n",
       "      <td>1988</td>\n",
       "      <td>NaN</td>\n",
       "      <td>83.0</td>\n",
       "      <td>{\"/m/05f_3\": \"Norwegian Language\"}</td>\n",
       "      <td>{\"/m/05b4w\": \"Norway\"}</td>\n",
       "      <td>{\"/m/0lsxr\": \"Crime Fiction\", \"/m/07s9rl0\": \"D...</td>\n",
       "    </tr>\n",
       "    <tr>\n",
       "      <th>3</th>\n",
       "      <td>9363483</td>\n",
       "      <td>/m/0285_cd</td>\n",
       "      <td>White Of The Eye</td>\n",
       "      <td>1987</td>\n",
       "      <td>NaN</td>\n",
       "      <td>110.0</td>\n",
       "      <td>{\"/m/02h40lc\": \"English Language\"}</td>\n",
       "      <td>{\"/m/07ssc\": \"United Kingdom\"}</td>\n",
       "      <td>{\"/m/01jfsb\": \"Thriller\", \"/m/0glj9q\": \"Erotic...</td>\n",
       "    </tr>\n",
       "    <tr>\n",
       "      <th>4</th>\n",
       "      <td>261236</td>\n",
       "      <td>/m/01mrr1</td>\n",
       "      <td>A Woman in Flames</td>\n",
       "      <td>1983</td>\n",
       "      <td>NaN</td>\n",
       "      <td>106.0</td>\n",
       "      <td>{\"/m/04306rv\": \"German Language\"}</td>\n",
       "      <td>{\"/m/0345h\": \"Germany\"}</td>\n",
       "      <td>{\"/m/07s9rl0\": \"Drama\"}</td>\n",
       "    </tr>\n",
       "  </tbody>\n",
       "</table>\n",
       "</div>"
      ],
      "text/plain": [
       "    Wiki_ID Freebase_ID                                               name  \\\n",
       "0    975900   /m/03vyhn                                     Ghosts of Mars   \n",
       "1   3196793   /m/08yl5d  Getting Away with Murder: The JonBenét Ramsey ...   \n",
       "2  28463795  /m/0crgdbh                                        Brun bitter   \n",
       "3   9363483  /m/0285_cd                                   White Of The Eye   \n",
       "4    261236   /m/01mrr1                                  A Woman in Flames   \n",
       "\n",
       "  release_date  box_office  runtime                           languages  \\\n",
       "0   2001-08-24  14010832.0     98.0  {\"/m/02h40lc\": \"English Language\"}   \n",
       "1   2000-02-16         NaN     95.0  {\"/m/02h40lc\": \"English Language\"}   \n",
       "2         1988         NaN     83.0  {\"/m/05f_3\": \"Norwegian Language\"}   \n",
       "3         1987         NaN    110.0  {\"/m/02h40lc\": \"English Language\"}   \n",
       "4         1983         NaN    106.0   {\"/m/04306rv\": \"German Language\"}   \n",
       "\n",
       "                                    contries  \\\n",
       "0  {\"/m/09c7w0\": \"United States of America\"}   \n",
       "1  {\"/m/09c7w0\": \"United States of America\"}   \n",
       "2                     {\"/m/05b4w\": \"Norway\"}   \n",
       "3             {\"/m/07ssc\": \"United Kingdom\"}   \n",
       "4                    {\"/m/0345h\": \"Germany\"}   \n",
       "\n",
       "                                              genres  \n",
       "0  {\"/m/01jfsb\": \"Thriller\", \"/m/06n90\": \"Science...  \n",
       "1  {\"/m/02n4kr\": \"Mystery\", \"/m/03bxz7\": \"Biograp...  \n",
       "2  {\"/m/0lsxr\": \"Crime Fiction\", \"/m/07s9rl0\": \"D...  \n",
       "3  {\"/m/01jfsb\": \"Thriller\", \"/m/0glj9q\": \"Erotic...  \n",
       "4                            {\"/m/07s9rl0\": \"Drama\"}  "
      ]
     },
     "execution_count": 111,
     "metadata": {},
     "output_type": "execute_result"
    }
   ],
   "source": [
    "print(movie_metadata.shape)\n",
    "movie_metadata.head()"
   ]
  },
  {
   "cell_type": "code",
   "execution_count": 112,
   "id": "5295e094",
   "metadata": {},
   "outputs": [
    {
     "name": "stdout",
     "output_type": "stream",
     "text": [
      "(42303, 2)\n"
     ]
    },
    {
     "data": {
      "text/html": [
       "<div>\n",
       "<style scoped>\n",
       "    .dataframe tbody tr th:only-of-type {\n",
       "        vertical-align: middle;\n",
       "    }\n",
       "\n",
       "    .dataframe tbody tr th {\n",
       "        vertical-align: top;\n",
       "    }\n",
       "\n",
       "    .dataframe thead th {\n",
       "        text-align: right;\n",
       "    }\n",
       "</style>\n",
       "<table border=\"1\" class=\"dataframe\">\n",
       "  <thead>\n",
       "    <tr style=\"text-align: right;\">\n",
       "      <th></th>\n",
       "      <th>Wiki_ID</th>\n",
       "      <th>plot</th>\n",
       "    </tr>\n",
       "  </thead>\n",
       "  <tbody>\n",
       "    <tr>\n",
       "      <th>0</th>\n",
       "      <td>23890098</td>\n",
       "      <td>Shlykov, a hard-working taxi driver and Lyosha...</td>\n",
       "    </tr>\n",
       "    <tr>\n",
       "      <th>1</th>\n",
       "      <td>31186339</td>\n",
       "      <td>The nation of Panem consists of a wealthy Capi...</td>\n",
       "    </tr>\n",
       "    <tr>\n",
       "      <th>2</th>\n",
       "      <td>20663735</td>\n",
       "      <td>Poovalli Induchoodan  is sentenced for six yea...</td>\n",
       "    </tr>\n",
       "    <tr>\n",
       "      <th>3</th>\n",
       "      <td>2231378</td>\n",
       "      <td>The Lemon Drop Kid , a New York City swindler,...</td>\n",
       "    </tr>\n",
       "    <tr>\n",
       "      <th>4</th>\n",
       "      <td>595909</td>\n",
       "      <td>Seventh-day Adventist Church pastor Michael Ch...</td>\n",
       "    </tr>\n",
       "  </tbody>\n",
       "</table>\n",
       "</div>"
      ],
      "text/plain": [
       "    Wiki_ID                                               plot\n",
       "0  23890098  Shlykov, a hard-working taxi driver and Lyosha...\n",
       "1  31186339  The nation of Panem consists of a wealthy Capi...\n",
       "2  20663735  Poovalli Induchoodan  is sentenced for six yea...\n",
       "3   2231378  The Lemon Drop Kid , a New York City swindler,...\n",
       "4    595909  Seventh-day Adventist Church pastor Michael Ch..."
      ]
     },
     "execution_count": 112,
     "metadata": {},
     "output_type": "execute_result"
    }
   ],
   "source": [
    "print(movie_plot.shape)\n",
    "movie_plot.head()"
   ]
  },
  {
   "cell_type": "markdown",
   "id": "59782844",
   "metadata": {},
   "source": [
    "<h3>Merge the datasets on Wiki ID and keep the useful rows</h3>"
   ]
  },
  {
   "cell_type": "code",
   "execution_count": 113,
   "id": "da6e182e",
   "metadata": {},
   "outputs": [
    {
     "data": {
      "text/html": [
       "<div>\n",
       "<style scoped>\n",
       "    .dataframe tbody tr th:only-of-type {\n",
       "        vertical-align: middle;\n",
       "    }\n",
       "\n",
       "    .dataframe tbody tr th {\n",
       "        vertical-align: top;\n",
       "    }\n",
       "\n",
       "    .dataframe thead th {\n",
       "        text-align: right;\n",
       "    }\n",
       "</style>\n",
       "<table border=\"1\" class=\"dataframe\">\n",
       "  <thead>\n",
       "    <tr style=\"text-align: right;\">\n",
       "      <th></th>\n",
       "      <th>Wiki_ID</th>\n",
       "      <th>name</th>\n",
       "      <th>genres</th>\n",
       "      <th>plot</th>\n",
       "    </tr>\n",
       "  </thead>\n",
       "  <tbody>\n",
       "    <tr>\n",
       "      <th>0</th>\n",
       "      <td>975900</td>\n",
       "      <td>Ghosts of Mars</td>\n",
       "      <td>{\"/m/01jfsb\": \"Thriller\", \"/m/06n90\": \"Science...</td>\n",
       "      <td>Set in the second half of the 22nd century, th...</td>\n",
       "    </tr>\n",
       "    <tr>\n",
       "      <th>1</th>\n",
       "      <td>9363483</td>\n",
       "      <td>White Of The Eye</td>\n",
       "      <td>{\"/m/01jfsb\": \"Thriller\", \"/m/0glj9q\": \"Erotic...</td>\n",
       "      <td>A series of murders of rich young women throug...</td>\n",
       "    </tr>\n",
       "    <tr>\n",
       "      <th>2</th>\n",
       "      <td>261236</td>\n",
       "      <td>A Woman in Flames</td>\n",
       "      <td>{\"/m/07s9rl0\": \"Drama\"}</td>\n",
       "      <td>Eva, an upper class housewife, becomes frustra...</td>\n",
       "    </tr>\n",
       "    <tr>\n",
       "      <th>3</th>\n",
       "      <td>18998739</td>\n",
       "      <td>The Sorcerer's Apprentice</td>\n",
       "      <td>{\"/m/0hqxf\": \"Family Film\", \"/m/01hmnh\": \"Fant...</td>\n",
       "      <td>Every hundred years, the evil Morgana  returns...</td>\n",
       "    </tr>\n",
       "    <tr>\n",
       "      <th>4</th>\n",
       "      <td>6631279</td>\n",
       "      <td>Little city</td>\n",
       "      <td>{\"/m/06cvj\": \"Romantic comedy\", \"/m/0hj3n0w\": ...</td>\n",
       "      <td>Adam, a San Francisco-based artist who works a...</td>\n",
       "    </tr>\n",
       "  </tbody>\n",
       "</table>\n",
       "</div>"
      ],
      "text/plain": [
       "    Wiki_ID                       name  \\\n",
       "0    975900             Ghosts of Mars   \n",
       "1   9363483           White Of The Eye   \n",
       "2    261236          A Woman in Flames   \n",
       "3  18998739  The Sorcerer's Apprentice   \n",
       "4   6631279                Little city   \n",
       "\n",
       "                                              genres  \\\n",
       "0  {\"/m/01jfsb\": \"Thriller\", \"/m/06n90\": \"Science...   \n",
       "1  {\"/m/01jfsb\": \"Thriller\", \"/m/0glj9q\": \"Erotic...   \n",
       "2                            {\"/m/07s9rl0\": \"Drama\"}   \n",
       "3  {\"/m/0hqxf\": \"Family Film\", \"/m/01hmnh\": \"Fant...   \n",
       "4  {\"/m/06cvj\": \"Romantic comedy\", \"/m/0hj3n0w\": ...   \n",
       "\n",
       "                                                plot  \n",
       "0  Set in the second half of the 22nd century, th...  \n",
       "1  A series of murders of rich young women throug...  \n",
       "2  Eva, an upper class housewife, becomes frustra...  \n",
       "3  Every hundred years, the evil Morgana  returns...  \n",
       "4  Adam, a San Francisco-based artist who works a...  "
      ]
     },
     "execution_count": 113,
     "metadata": {},
     "output_type": "execute_result"
    }
   ],
   "source": [
    "movie = pd.merge(movie_metadata, movie_plot, how = 'inner', on = 'Wiki_ID')\n",
    "movie = movie[['Wiki_ID', 'name', 'genres', 'plot']]\n",
    "movie.head()"
   ]
  },
  {
   "cell_type": "markdown",
   "id": "e2f402a4",
   "metadata": {},
   "source": [
    "<h3>Eliminate the freebase ID in genres</h3>"
   ]
  },
  {
   "cell_type": "code",
   "execution_count": 114,
   "id": "894cdeee",
   "metadata": {
    "scrolled": true
   },
   "outputs": [],
   "source": [
    "for index, row in movie.iterrows():\n",
    "    genres = row[\"genres\"]\n",
    "    genres_dict = json.loads(genres)\n",
    "    genres_list = list(genres_dict.values())\n",
    "    genres_list_str = \",\".join(genres_list)\n",
    "    movie.loc[index,'genres'] = genres_list_str"
   ]
  },
  {
   "cell_type": "code",
   "execution_count": 115,
   "id": "13f92fa3",
   "metadata": {
    "scrolled": true
   },
   "outputs": [],
   "source": [
    "from nltk.tokenize import sent_tokenize, word_tokenize\n",
    "import matplotlib\n",
    "import matplotlib.pyplot as plt"
   ]
  },
  {
   "cell_type": "markdown",
   "id": "8353e509",
   "metadata": {},
   "source": [
    "<h3>Eliminate outliers (plots with less than 5 or more than 40 sentences)</h3>"
   ]
  },
  {
   "cell_type": "code",
   "execution_count": 116,
   "id": "82ab8863",
   "metadata": {},
   "outputs": [],
   "source": [
    "invalid_record = []\n",
    "for index, row in movie.iterrows():\n",
    "    movie_plot = row['plot']\n",
    "    number_of_sentences = len(sent_tokenize(movie_plot))\n",
    "    if number_of_sentences <= 5 or number_of_sentences >= 40:\n",
    "        invalid_record.append(index)\n",
    "movie.drop(invalid_record, inplace=True)"
   ]
  },
  {
   "cell_type": "markdown",
   "id": "3ff062da",
   "metadata": {},
   "source": [
    "<h3>Select 16 most popular genres</h3>"
   ]
  },
  {
   "cell_type": "code",
   "execution_count": 117,
   "id": "7f655e1f",
   "metadata": {},
   "outputs": [],
   "source": [
    "genres_parse_dict = dict()\n",
    "\n",
    "genres_parse_dict['Drama'] = ['Drama']\n",
    "genres_parse_dict['Comedy-drama'] = ['Comedy', 'Drama']\n",
    "genres_parse_dict['Romantic drama'] = ['Romance', 'Drama']\n",
    "genres_parse_dict['Comedy'] = ['Comedy']\n",
    "genres_parse_dict['Comedy film'] = ['Comedy']\n",
    "genres_parse_dict['Romantic comedy'] = ['Romance', 'Comedy']\n",
    "genres_parse_dict['Romance Film'] = ['Romance']\n",
    "genres_parse_dict['Thriller'] = ['Thriller']\n",
    "genres_parse_dict['Psychological thriller'] = ['Thriller']\n",
    "genres_parse_dict['Crime Thriller'] = ['Crime', 'Thriller']\n",
    "genres_parse_dict['Action'] = ['Action Adventure']\n",
    "genres_parse_dict['Action/Adventure'] = ['Action Adventure']\n",
    "genres_parse_dict['Adventure'] = ['Action Adventure']\n",
    "genres_parse_dict['World cinema'] = ['World cinema']\n",
    "genres_parse_dict['Crime Fiction'] = ['Crime']\n",
    "genres_parse_dict['Horror'] = ['Horror']\n",
    "genres_parse_dict['Family Film'] = ['Family Film']\n",
    "genres_parse_dict[\"Children's/Family\"] = ['Family Film']\n",
    "genres_parse_dict['Animation'] = ['Animation']\n",
    "genres_parse_dict['Science Fiction'] = ['Science Fiction']\n",
    "genres_parse_dict['Fantasy'] = ['Fantasy']\n",
    "genres_parse_dict['Mystery'] = ['Mystery']\n",
    "genres_parse_dict['War film'] = ['War film']\n",
    "genres_parse_dict['Period piece'] = ['Period piece']\n",
    "genres_parse_dict['Western'] = ['Western']"
   ]
  },
  {
   "cell_type": "markdown",
   "id": "c8b108b7",
   "metadata": {},
   "source": [
    "<h3>Only keep the movies with the selected genres</h3>"
   ]
  },
  {
   "cell_type": "code",
   "execution_count": 118,
   "id": "ecb61d3d",
   "metadata": {},
   "outputs": [],
   "source": [
    "for index,rows in movie.iterrows():\n",
    "    genres = movie.loc[index, 'genres'].split(\",\")\n",
    "    genres_to_keep = []\n",
    "    \n",
    "    for x in genres:\n",
    "        if x in genres_parse_dict.keys():\n",
    "            genres_to_keep.extend(genres_parse_dict[x])\n",
    "        else:\n",
    "            continue\n",
    "    \n",
    "    genres_to_keep = list(set(genres_to_keep))\n",
    "    \n",
    "    if len(genres_to_keep) != 0:\n",
    "        movie.loc[index, 'genres'] = \",\".join(genres_to_keep)\n",
    "    else:\n",
    "        movie.loc[index, 'genres'] = np.nan"
   ]
  },
  {
   "cell_type": "code",
   "execution_count": 119,
   "id": "9e90d5d4",
   "metadata": {
    "scrolled": false
   },
   "outputs": [
    {
     "data": {
      "text/html": [
       "<div>\n",
       "<style scoped>\n",
       "    .dataframe tbody tr th:only-of-type {\n",
       "        vertical-align: middle;\n",
       "    }\n",
       "\n",
       "    .dataframe tbody tr th {\n",
       "        vertical-align: top;\n",
       "    }\n",
       "\n",
       "    .dataframe thead th {\n",
       "        text-align: right;\n",
       "    }\n",
       "</style>\n",
       "<table border=\"1\" class=\"dataframe\">\n",
       "  <thead>\n",
       "    <tr style=\"text-align: right;\">\n",
       "      <th></th>\n",
       "      <th>Wiki_ID</th>\n",
       "      <th>name</th>\n",
       "      <th>genres</th>\n",
       "      <th>plot</th>\n",
       "    </tr>\n",
       "  </thead>\n",
       "  <tbody>\n",
       "    <tr>\n",
       "      <th>0</th>\n",
       "      <td>975900</td>\n",
       "      <td>Ghosts of Mars</td>\n",
       "      <td>Action Adventure,Science Fiction,Thriller,Horror</td>\n",
       "      <td>Set in the second half of the 22nd century, th...</td>\n",
       "    </tr>\n",
       "    <tr>\n",
       "      <th>1</th>\n",
       "      <td>9363483</td>\n",
       "      <td>White Of The Eye</td>\n",
       "      <td>Thriller</td>\n",
       "      <td>A series of murders of rich young women throug...</td>\n",
       "    </tr>\n",
       "    <tr>\n",
       "      <th>2</th>\n",
       "      <td>261236</td>\n",
       "      <td>A Woman in Flames</td>\n",
       "      <td>Drama</td>\n",
       "      <td>Eva, an upper class housewife, becomes frustra...</td>\n",
       "    </tr>\n",
       "    <tr>\n",
       "      <th>3</th>\n",
       "      <td>18998739</td>\n",
       "      <td>The Sorcerer's Apprentice</td>\n",
       "      <td>Family Film,Action Adventure,World cinema,Fantasy</td>\n",
       "      <td>Every hundred years, the evil Morgana  returns...</td>\n",
       "    </tr>\n",
       "    <tr>\n",
       "      <th>4</th>\n",
       "      <td>6631279</td>\n",
       "      <td>Little city</td>\n",
       "      <td>Drama,Comedy,Romance</td>\n",
       "      <td>Adam, a San Francisco-based artist who works a...</td>\n",
       "    </tr>\n",
       "    <tr>\n",
       "      <th>...</th>\n",
       "      <td>...</td>\n",
       "      <td>...</td>\n",
       "      <td>...</td>\n",
       "      <td>...</td>\n",
       "    </tr>\n",
       "    <tr>\n",
       "      <th>42194</th>\n",
       "      <td>1918494</td>\n",
       "      <td>State and Main</td>\n",
       "      <td>Comedy</td>\n",
       "      <td>Havoc is wrought on the inhabitants of a small...</td>\n",
       "    </tr>\n",
       "    <tr>\n",
       "      <th>42195</th>\n",
       "      <td>664006</td>\n",
       "      <td>Guilty as Sin</td>\n",
       "      <td>Crime,Thriller</td>\n",
       "      <td>Jennifer Haines  is an up-and-coming Chicago a...</td>\n",
       "    </tr>\n",
       "    <tr>\n",
       "      <th>42196</th>\n",
       "      <td>3868432</td>\n",
       "      <td>Into the Mirror</td>\n",
       "      <td>Horror</td>\n",
       "      <td>After accidentally causing the death of his pa...</td>\n",
       "    </tr>\n",
       "    <tr>\n",
       "      <th>42202</th>\n",
       "      <td>913762</td>\n",
       "      <td>The Super Dimension Fortress Macross II: Lover...</td>\n",
       "      <td>Animation,Action Adventure,Drama,Science Fiction</td>\n",
       "      <td>The story takes place in the year 2092,The Sup...</td>\n",
       "    </tr>\n",
       "    <tr>\n",
       "      <th>42203</th>\n",
       "      <td>12476867</td>\n",
       "      <td>Spliced</td>\n",
       "      <td>Horror,Thriller</td>\n",
       "      <td>The movie is about a teenage girl who loves ho...</td>\n",
       "    </tr>\n",
       "  </tbody>\n",
       "</table>\n",
       "<p>22559 rows × 4 columns</p>\n",
       "</div>"
      ],
      "text/plain": [
       "        Wiki_ID                                               name  \\\n",
       "0        975900                                     Ghosts of Mars   \n",
       "1       9363483                                   White Of The Eye   \n",
       "2        261236                                  A Woman in Flames   \n",
       "3      18998739                          The Sorcerer's Apprentice   \n",
       "4       6631279                                        Little city   \n",
       "...         ...                                                ...   \n",
       "42194   1918494                                     State and Main   \n",
       "42195    664006                                      Guilty as Sin   \n",
       "42196   3868432                                    Into the Mirror   \n",
       "42202    913762  The Super Dimension Fortress Macross II: Lover...   \n",
       "42203  12476867                                            Spliced   \n",
       "\n",
       "                                                  genres  \\\n",
       "0       Action Adventure,Science Fiction,Thriller,Horror   \n",
       "1                                               Thriller   \n",
       "2                                                  Drama   \n",
       "3      Family Film,Action Adventure,World cinema,Fantasy   \n",
       "4                                   Drama,Comedy,Romance   \n",
       "...                                                  ...   \n",
       "42194                                             Comedy   \n",
       "42195                                     Crime,Thriller   \n",
       "42196                                             Horror   \n",
       "42202   Animation,Action Adventure,Drama,Science Fiction   \n",
       "42203                                    Horror,Thriller   \n",
       "\n",
       "                                                    plot  \n",
       "0      Set in the second half of the 22nd century, th...  \n",
       "1      A series of murders of rich young women throug...  \n",
       "2      Eva, an upper class housewife, becomes frustra...  \n",
       "3      Every hundred years, the evil Morgana  returns...  \n",
       "4      Adam, a San Francisco-based artist who works a...  \n",
       "...                                                  ...  \n",
       "42194  Havoc is wrought on the inhabitants of a small...  \n",
       "42195  Jennifer Haines  is an up-and-coming Chicago a...  \n",
       "42196  After accidentally causing the death of his pa...  \n",
       "42202  The story takes place in the year 2092,The Sup...  \n",
       "42203  The movie is about a teenage girl who loves ho...  \n",
       "\n",
       "[22559 rows x 4 columns]"
      ]
     },
     "execution_count": 119,
     "metadata": {},
     "output_type": "execute_result"
    }
   ],
   "source": [
    "movie.dropna(inplace=True)\n",
    "movie"
   ]
  },
  {
   "cell_type": "markdown",
   "id": "6dd75f7e",
   "metadata": {},
   "source": [
    "<h3>Sanity check: Ensure there are 16 selected genres</h3>"
   ]
  },
  {
   "cell_type": "code",
   "execution_count": 120,
   "id": "20a38a7f",
   "metadata": {
    "scrolled": true
   },
   "outputs": [
    {
     "name": "stdout",
     "output_type": "stream",
     "text": [
      "16\n",
      "Action Adventure\n",
      "Thriller\n",
      "Western\n",
      "Crime\n",
      "Romance\n",
      "Animation\n",
      "Family Film\n",
      "Comedy\n",
      "War film\n",
      "Fantasy\n",
      "Mystery\n",
      "Science Fiction\n",
      "Drama\n",
      "World cinema\n",
      "Period piece\n",
      "Horror\n"
     ]
    }
   ],
   "source": [
    "genres_list = []\n",
    "for index,rows in movie.iterrows():\n",
    "    for x in movie.loc[index, 'genres'].split(\",\"):\n",
    "        genres_list.append(x)\n",
    "\n",
    "print(len(set(genres_list)))\n",
    "for genre in set(genres_list):\n",
    "    print(genre)"
   ]
  },
  {
   "cell_type": "markdown",
   "id": "d7da2334",
   "metadata": {},
   "source": [
    "<h3>Save cleaned dataset to file</h3>"
   ]
  },
  {
   "cell_type": "code",
   "execution_count": 102,
   "id": "ef3d7903",
   "metadata": {},
   "outputs": [],
   "source": [
    "movie\n",
    "movie.to_csv(\"movie_cleaned.csv\", sep=\"\\t\", index=False)"
   ]
  }
 ],
 "metadata": {
  "kernelspec": {
   "display_name": "Python 3 (ipykernel)",
   "language": "python",
   "name": "python3"
  },
  "language_info": {
   "codemirror_mode": {
    "name": "ipython",
    "version": 3
   },
   "file_extension": ".py",
   "mimetype": "text/x-python",
   "name": "python",
   "nbconvert_exporter": "python",
   "pygments_lexer": "ipython3",
   "version": "3.8.15"
  }
 },
 "nbformat": 4,
 "nbformat_minor": 5
}
